{
 "cells": [
  {
   "cell_type": "markdown",
   "metadata": {},
   "source": [
    "# Music Prediction Model\n",
    "Last Update: 2021-08-11\n",
    "\n",
    "Use the cleaned final dataset and build a model."
   ]
  },
  {
   "cell_type": "code",
   "execution_count": 62,
   "metadata": {},
   "outputs": [],
   "source": [
    "from lazypredict.Supervised import LazyRegressor\n",
    "import pandas as pd\n",
    "import numpy as np\n",
    "from sklearn.model_selection import train_test_split\n",
    "import lightgbm as lgb\n",
    "from sklearn.metrics import mean_squared_error\n",
    "from sklearn.metrics import mean_absolute_error\n",
    "from sklearn.metrics import r2_score\n",
    "from sklearn.model_selection import GridSearchCV\n",
    "import matplotlib.pyplot as plt\n"
   ]
  },
  {
   "cell_type": "code",
   "execution_count": 28,
   "metadata": {},
   "outputs": [],
   "source": [
    "#Import data\n",
    "df = pd.read_csv('/Users/lcags/Documents/Practicum2/DATA/final_dataset.csv') #possibly go back to\n"
   ]
  },
  {
   "cell_type": "code",
   "execution_count": 29,
   "metadata": {},
   "outputs": [
    {
     "data": {
      "text/plain": [
       "['weeks_on_chart',\n",
       " 'peak_position',\n",
       " 'spotify_track_duration_ms',\n",
       " 'key',\n",
       " 'loudness',\n",
       " 'speechiness',\n",
       " 'acousticness',\n",
       " 'instrumentalness',\n",
       " 'liveness',\n",
       " 'valence',\n",
       " 'tempo',\n",
       " 'time_signature',\n",
       " 'mode_False',\n",
       " 'mode_True',\n",
       " 'season_fall',\n",
       " 'season_spring',\n",
       " 'season_summer',\n",
       " 'season_winter']"
      ]
     },
     "execution_count": 29,
     "metadata": {},
     "output_type": "execute_result"
    }
   ],
   "source": [
    "#Get names of columns, removing year (for subsetting)\n",
    "names = list(df.columns)\n",
    "names.remove('year')\n",
    "\n",
    "names"
   ]
  },
  {
   "cell_type": "code",
   "execution_count": 30,
   "metadata": {},
   "outputs": [],
   "source": [
    "#x = independent variables\n",
    "#y = dependent variable\n",
    "\n",
    "x = np.array(df[names])\n",
    "y = np.array(df[[\"year\"]])\n"
   ]
  },
  {
   "cell_type": "code",
   "execution_count": 31,
   "metadata": {},
   "outputs": [],
   "source": [
    "# 80/20 split, test/train\n",
    "\n",
    "x_train, x_test, y_train, y_test = train_test_split(x\n",
    "                                                    ,y\n",
    "                                                    ,test_size= .2\n",
    "                                                    ,random_state = 0)\n"
   ]
  },
  {
   "cell_type": "code",
   "execution_count": 32,
   "metadata": {},
   "outputs": [
    {
     "data": {
      "text/plain": [
       "(19135, 1)"
      ]
     },
     "execution_count": 32,
     "metadata": {},
     "output_type": "execute_result"
    }
   ],
   "source": [
    "y_train.shape"
   ]
  },
  {
   "cell_type": "code",
   "execution_count": 65,
   "metadata": {},
   "outputs": [
    {
     "data": {
      "text/plain": [
       "(4784, 1)"
      ]
     },
     "execution_count": 65,
     "metadata": {},
     "output_type": "execute_result"
    }
   ],
   "source": [
    "y_test.shape"
   ]
  },
  {
   "cell_type": "code",
   "execution_count": 35,
   "metadata": {},
   "outputs": [],
   "source": [
    "#Initialize LazyRegressor\n",
    "lreg = LazyRegressor(verbose=0, ignore_warnings=True, custom_metric = None)"
   ]
  },
  {
   "cell_type": "code",
   "execution_count": 23,
   "metadata": {},
   "outputs": [
    {
     "name": "stderr",
     "output_type": "stream",
     "text": [
      "100%|██████████| 42/42 [04:45<00:00,  6.81s/it]"
     ]
    },
    {
     "name": "stdout",
     "output_type": "stream",
     "text": [
      "                               Adjusted R-Squared  R-Squared    RMSE  \\\n",
      "Model                                                                  \n",
      "LGBMRegressor                                0.77       0.77    9.09   \n",
      "HistGradientBoostingRegressor                0.77       0.77    9.10   \n",
      "XGBRegressor                                 0.77       0.77    9.14   \n",
      "ExtraTreesRegressor                          0.75       0.75    9.49   \n",
      "RandomForestRegressor                        0.75       0.75    9.55   \n",
      "GradientBoostingRegressor                    0.74       0.74    9.72   \n",
      "BaggingRegressor                             0.73       0.73    9.97   \n",
      "SVR                                          0.65       0.65   11.22   \n",
      "NuSVR                                        0.65       0.65   11.23   \n",
      "KNeighborsRegressor                          0.62       0.62   11.73   \n",
      "LinearRegression                             0.56       0.56   12.65   \n",
      "TransformedTargetRegressor                   0.56       0.56   12.65   \n",
      "PoissonRegressor                             0.56       0.56   12.66   \n",
      "LassoLarsIC                                  0.56       0.56   12.66   \n",
      "LassoCV                                      0.56       0.56   12.66   \n",
      "ElasticNetCV                                 0.56       0.56   12.66   \n",
      "BayesianRidge                                0.56       0.56   12.66   \n",
      "RidgeCV                                      0.56       0.56   12.66   \n",
      "Ridge                                        0.56       0.56   12.66   \n",
      "LarsCV                                       0.56       0.56   12.66   \n",
      "LassoLarsCV                                  0.56       0.56   12.66   \n",
      "Lars                                         0.56       0.56   12.66   \n",
      "SGDRegressor                                 0.56       0.56   12.66   \n",
      "HuberRegressor                               0.55       0.56   12.71   \n",
      "Lasso                                        0.53       0.53   13.06   \n",
      "LinearSVR                                    0.53       0.53   13.09   \n",
      "OrthogonalMatchingPursuitCV                  0.51       0.51   13.35   \n",
      "ElasticNet                                   0.50       0.50   13.54   \n",
      "AdaBoostRegressor                            0.49       0.49   13.63   \n",
      "RANSACRegressor                              0.46       0.47   13.94   \n",
      "DecisionTreeRegressor                        0.46       0.46   13.99   \n",
      "GeneralizedLinearRegressor                   0.46       0.46   14.01   \n",
      "TweedieRegressor                             0.46       0.46   14.01   \n",
      "GammaRegressor                               0.46       0.46   14.03   \n",
      "MLPRegressor                                 0.42       0.42   14.51   \n",
      "ExtraTreeRegressor                           0.37       0.38   15.09   \n",
      "PassiveAggressiveRegressor                   0.28       0.28   16.18   \n",
      "OrthogonalMatchingPursuit                    0.26       0.27   16.37   \n",
      "DummyRegressor                              -0.00      -0.00   19.10   \n",
      "LassoLars                                   -0.00      -0.00   19.10   \n",
      "GaussianProcessRegressor                 -1341.11   -1336.06  698.18   \n",
      "KernelRidge                             -10880.64  -10839.69 1988.01   \n",
      "\n",
      "                               Time Taken  \n",
      "Model                                      \n",
      "LGBMRegressor                        0.19  \n",
      "HistGradientBoostingRegressor        2.36  \n",
      "XGBRegressor                         0.56  \n",
      "ExtraTreesRegressor                  6.19  \n",
      "RandomForestRegressor               17.67  \n",
      "GradientBoostingRegressor            9.09  \n",
      "BaggingRegressor                     1.41  \n",
      "SVR                                 15.09  \n",
      "NuSVR                               27.13  \n",
      "KNeighborsRegressor                  3.28  \n",
      "LinearRegression                     0.04  \n",
      "TransformedTargetRegressor           0.02  \n",
      "PoissonRegressor                     0.04  \n",
      "LassoLarsIC                          0.04  \n",
      "LassoCV                              0.28  \n",
      "ElasticNetCV                         0.22  \n",
      "BayesianRidge                        0.04  \n",
      "RidgeCV                              0.04  \n",
      "Ridge                                0.02  \n",
      "LarsCV                               0.12  \n",
      "LassoLarsCV                          0.13  \n",
      "Lars                                 0.05  \n",
      "SGDRegressor                         0.08  \n",
      "HuberRegressor                       0.17  \n",
      "Lasso                                0.04  \n",
      "LinearSVR                            0.14  \n",
      "OrthogonalMatchingPursuitCV          0.06  \n",
      "ElasticNet                           0.03  \n",
      "AdaBoostRegressor                    1.38  \n",
      "RANSACRegressor                      0.12  \n",
      "DecisionTreeRegressor                0.27  \n",
      "GeneralizedLinearRegressor           0.08  \n",
      "TweedieRegressor                     0.03  \n",
      "GammaRegressor                       0.03  \n",
      "MLPRegressor                        22.96  \n",
      "ExtraTreeRegressor                   0.11  \n",
      "PassiveAggressiveRegressor           0.05  \n",
      "OrthogonalMatchingPursuit            0.03  \n",
      "DummyRegressor                       0.02  \n",
      "LassoLars                            0.05  \n",
      "GaussianProcessRegressor           136.16  \n",
      "KernelRidge                         40.17  \n"
     ]
    },
    {
     "name": "stderr",
     "output_type": "stream",
     "text": [
      "\n"
     ]
    }
   ],
   "source": [
    "models,predictions = lreg.fit(x_train, x_test, y_train, y_test)\n",
    "print(models)"
   ]
  },
  {
   "cell_type": "markdown",
   "metadata": {},
   "source": [
    "## Recreate chosen base model\n",
    "LGBM Regression model"
   ]
  },
  {
   "cell_type": "code",
   "execution_count": 42,
   "metadata": {},
   "outputs": [
    {
     "data": {
      "text/plain": [
       "9.105663352451108"
      ]
     },
     "execution_count": 42,
     "metadata": {},
     "output_type": "execute_result"
    }
   ],
   "source": [
    "#Recreated base model\n",
    "reg = lgb.LGBMRegressor(objective = 'Regression')\n",
    "reg.fit(x_train, y_train)\n",
    "y_pred_base = reg.predict(x_test)\n",
    "\n",
    "mean_squared_error(y_test, y_pred_base,squared=False)"
   ]
  },
  {
   "cell_type": "code",
   "execution_count": 43,
   "metadata": {},
   "outputs": [
    {
     "data": {
      "text/plain": [
       "0.7725718232698707"
      ]
     },
     "execution_count": 43,
     "metadata": {},
     "output_type": "execute_result"
    }
   ],
   "source": [
    "r2_score(y_test,y_pred_base)   "
   ]
  },
  {
   "cell_type": "code",
   "execution_count": 44,
   "metadata": {},
   "outputs": [
    {
     "data": {
      "text/plain": [
       "6.569416403597825"
      ]
     },
     "execution_count": 44,
     "metadata": {},
     "output_type": "execute_result"
    }
   ],
   "source": [
    "mean_absolute_error(y_test,y_pred_base)"
   ]
  },
  {
   "cell_type": "markdown",
   "metadata": {},
   "source": [
    "### Important Variables plotted"
   ]
  },
  {
   "cell_type": "code",
   "execution_count": 45,
   "metadata": {},
   "outputs": [],
   "source": [
    "important = pd.DataFrame(reg.feature_importances_,names).sort_values(by=[0], ascending=False)"
   ]
  },
  {
   "cell_type": "code",
   "execution_count": 46,
   "metadata": {
    "scrolled": true
   },
   "outputs": [
    {
     "data": {
      "text/plain": [
       "<AxesSubplot:>"
      ]
     },
     "execution_count": 46,
     "metadata": {},
     "output_type": "execute_result"
    },
    {
     "data": {
      "image/png": "[encoded data removed]",
      "text/plain": [
       "<Figure size 432x288 with 1 Axes>"
      ]
     },
     "metadata": {
      "needs_background": "light"
     },
     "output_type": "display_data"
    }
   ],
   "source": [
    "important.plot.bar()"
   ]
  },
  {
   "cell_type": "markdown",
   "metadata": {},
   "source": [
    "### Tuning\n",
    "Defaults for LGBM Regressor\n",
    "* Learning Rate 0.1\n",
    "* N_Estimators: 100\n",
    "* Max_Depth: -1\n",
    "* Num_Leaves: 31"
   ]
  },
  {
   "cell_type": "code",
   "execution_count": 677,
   "metadata": {},
   "outputs": [],
   "source": [
    "param_grid = {\n",
    "    'learning_rate': [0.01, 0.1, 1],\n",
    "    'n_estimators': [100, 200,300],\n",
    "    'max_depth': [-1,3,7],\n",
    "    'num_leaves': [31,56,80],\n",
    "}"
   ]
  },
  {
   "cell_type": "code",
   "execution_count": 678,
   "metadata": {},
   "outputs": [
    {
     "data": {
      "text/plain": [
       "GridSearchCV(cv=10, estimator=LGBMRegressor(objective='Regression'),\n",
       "             param_grid={'learning_rate': [0.01, 0.1, 1],\n",
       "                         'max_depth': [-1, 3, 7],\n",
       "                         'n_estimators': [100, 200, 300],\n",
       "                         'num_leaves': [31, 56, 80]})"
      ]
     },
     "execution_count": 678,
     "metadata": {},
     "output_type": "execute_result"
    }
   ],
   "source": [
    "gbm = GridSearchCV(reg, param_grid, cv=10)\n",
    "gbm.fit(x_train, y_train)"
   ]
  },
  {
   "cell_type": "code",
   "execution_count": 679,
   "metadata": {},
   "outputs": [
    {
     "data": {
      "text/plain": [
       "{'learning_rate': 0.1, 'max_depth': -1, 'n_estimators': 300, 'num_leaves': 56}"
      ]
     },
     "execution_count": 679,
     "metadata": {},
     "output_type": "execute_result"
    }
   ],
   "source": [
    "gbm.best_params_"
   ]
  },
  {
   "cell_type": "code",
   "execution_count": 47,
   "metadata": {},
   "outputs": [],
   "source": [
    "reg2 = lgb.LGBMRegressor(objective = 'Regression',\n",
    "                        learning_rate = 0.1,\n",
    "                        max_depth = -1,\n",
    "                        n_estimators = 300,\n",
    "                       num_leaves = 56,\n",
    ")\n",
    "\n",
    "reg2.fit(x_train, y_train)\n",
    "y_pred = reg2.predict(x_test)\n",
    "\n"
   ]
  },
  {
   "cell_type": "code",
   "execution_count": 48,
   "metadata": {},
   "outputs": [
    {
     "data": {
      "text/plain": [
       "9.009373838232019"
      ]
     },
     "execution_count": 48,
     "metadata": {},
     "output_type": "execute_result"
    }
   ],
   "source": [
    "mean_squared_error(y_test, y_pred,squared=False)"
   ]
  },
  {
   "cell_type": "code",
   "execution_count": 49,
   "metadata": {},
   "outputs": [
    {
     "data": {
      "text/plain": [
       "0.7773563536398039"
      ]
     },
     "execution_count": 49,
     "metadata": {},
     "output_type": "execute_result"
    }
   ],
   "source": [
    "r2_score(y_test,y_pred)   "
   ]
  },
  {
   "cell_type": "code",
   "execution_count": 50,
   "metadata": {},
   "outputs": [
    {
     "data": {
      "text/plain": [
       "6.441791249491499"
      ]
     },
     "execution_count": 50,
     "metadata": {},
     "output_type": "execute_result"
    }
   ],
   "source": [
    "mean_absolute_error(y_test,y_pred)"
   ]
  },
  {
   "cell_type": "markdown",
   "metadata": {},
   "source": [
    "# Exploring Predictions"
   ]
  },
  {
   "cell_type": "code",
   "execution_count": 51,
   "metadata": {},
   "outputs": [
    {
     "data": {
      "text/plain": [
       "<matplotlib.collections.PathCollection at 0x13b13c510>"
      ]
     },
     "execution_count": 51,
     "metadata": {},
     "output_type": "execute_result"
    },
    {
     "data": {
      "image/png": "[encoded data removed]",
      "text/plain": [
       "<Figure size 432x288 with 1 Axes>"
      ]
     },
     "metadata": {
      "needs_background": "light"
     },
     "output_type": "display_data"
    }
   ],
   "source": [
    "#Scatter plot between Actual vs Predicted\n",
    "plt.scatter(y_test,y_pred)"
   ]
  },
  {
   "cell_type": "code",
   "execution_count": 52,
   "metadata": {},
   "outputs": [],
   "source": [
    "residuals = y_test.flatten()-y_pred.flatten()"
   ]
  },
  {
   "cell_type": "code",
   "execution_count": 53,
   "metadata": {},
   "outputs": [
    {
     "data": {
      "text/plain": [
       "<matplotlib.collections.PathCollection at 0x1378eb5d0>"
      ]
     },
     "execution_count": 53,
     "metadata": {},
     "output_type": "execute_result"
    },
    {
     "data": {
      "image/png": "[encoded data removed]",
      "text/plain": [
       "<Figure size 432x288 with 1 Axes>"
      ]
     },
     "metadata": {
      "needs_background": "light"
     },
     "output_type": "display_data"
    }
   ],
   "source": [
    "#Predicted vs Redisuals\n",
    "plt.scatter(y_pred,residuals)\n"
   ]
  },
  {
   "cell_type": "markdown",
   "metadata": {},
   "source": [
    "Biased and homoscedactic per Depaul website reference. This could be due to a missing variable."
   ]
  },
  {
   "cell_type": "code",
   "execution_count": 54,
   "metadata": {},
   "outputs": [
    {
     "data": {
      "text/html": [
       "<div>\n",
       "<style scoped>\n",
       "    .dataframe tbody tr th:only-of-type {\n",
       "        vertical-align: middle;\n",
       "    }\n",
       "\n",
       "    .dataframe tbody tr th {\n",
       "        vertical-align: top;\n",
       "    }\n",
       "\n",
       "    .dataframe thead th {\n",
       "        text-align: right;\n",
       "    }\n",
       "</style>\n",
       "<table border=\"1\" class=\"dataframe\">\n",
       "  <thead>\n",
       "    <tr style=\"text-align: right;\">\n",
       "      <th></th>\n",
       "      <th>Actual</th>\n",
       "      <th>Predicted</th>\n",
       "      <th>Delta</th>\n",
       "    </tr>\n",
       "  </thead>\n",
       "  <tbody>\n",
       "    <tr>\n",
       "      <th>0</th>\n",
       "      <td>1965</td>\n",
       "      <td>1975.33</td>\n",
       "      <td>10.33</td>\n",
       "    </tr>\n",
       "    <tr>\n",
       "      <th>1</th>\n",
       "      <td>1974</td>\n",
       "      <td>1983.97</td>\n",
       "      <td>9.97</td>\n",
       "    </tr>\n",
       "    <tr>\n",
       "      <th>2</th>\n",
       "      <td>1997</td>\n",
       "      <td>1999.33</td>\n",
       "      <td>2.33</td>\n",
       "    </tr>\n",
       "    <tr>\n",
       "      <th>3</th>\n",
       "      <td>2012</td>\n",
       "      <td>2002.23</td>\n",
       "      <td>9.77</td>\n",
       "    </tr>\n",
       "    <tr>\n",
       "      <th>4</th>\n",
       "      <td>1962</td>\n",
       "      <td>1966.09</td>\n",
       "      <td>4.09</td>\n",
       "    </tr>\n",
       "    <tr>\n",
       "      <th>...</th>\n",
       "      <td>...</td>\n",
       "      <td>...</td>\n",
       "      <td>...</td>\n",
       "    </tr>\n",
       "    <tr>\n",
       "      <th>4779</th>\n",
       "      <td>1980</td>\n",
       "      <td>1979.17</td>\n",
       "      <td>0.83</td>\n",
       "    </tr>\n",
       "    <tr>\n",
       "      <th>4780</th>\n",
       "      <td>1965</td>\n",
       "      <td>1965.68</td>\n",
       "      <td>0.68</td>\n",
       "    </tr>\n",
       "    <tr>\n",
       "      <th>4781</th>\n",
       "      <td>1981</td>\n",
       "      <td>1999.76</td>\n",
       "      <td>18.76</td>\n",
       "    </tr>\n",
       "    <tr>\n",
       "      <th>4782</th>\n",
       "      <td>1970</td>\n",
       "      <td>1975.02</td>\n",
       "      <td>5.02</td>\n",
       "    </tr>\n",
       "    <tr>\n",
       "      <th>4783</th>\n",
       "      <td>2019</td>\n",
       "      <td>2021.85</td>\n",
       "      <td>2.85</td>\n",
       "    </tr>\n",
       "  </tbody>\n",
       "</table>\n",
       "<p>4784 rows × 3 columns</p>\n",
       "</div>"
      ],
      "text/plain": [
       "      Actual  Predicted  Delta\n",
       "0       1965    1975.33  10.33\n",
       "1       1974    1983.97   9.97\n",
       "2       1997    1999.33   2.33\n",
       "3       2012    2002.23   9.77\n",
       "4       1962    1966.09   4.09\n",
       "...      ...        ...    ...\n",
       "4779    1980    1979.17   0.83\n",
       "4780    1965    1965.68   0.68\n",
       "4781    1981    1999.76  18.76\n",
       "4782    1970    1975.02   5.02\n",
       "4783    2019    2021.85   2.85\n",
       "\n",
       "[4784 rows x 3 columns]"
      ]
     },
     "execution_count": 54,
     "metadata": {},
     "output_type": "execute_result"
    }
   ],
   "source": [
    "#Explore Deltas\n",
    "compare = pd.DataFrame({'Actual': y_test.flatten()\n",
    "                        ,'Predicted': y_pred.flatten()\n",
    "                        ,'Delta':abs(y_pred.flatten()-y_test.flatten())})\n",
    "\n",
    "compare"
   ]
  },
  {
   "cell_type": "code",
   "execution_count": 64,
   "metadata": {},
   "outputs": [
    {
     "data": {
      "text/plain": [
       "<AxesSubplot:>"
      ]
     },
     "execution_count": 64,
     "metadata": {},
     "output_type": "execute_result"
    },
    {
     "data": {
      "image/png": "[encoded data removed]",
      "text/plain": [
       "<Figure size 432x288 with 1 Axes>"
      ]
     },
     "metadata": {
      "needs_background": "light"
     },
     "output_type": "display_data"
    }
   ],
   "source": [
    "compare[\"Delta\"].plot.box(vert = False)"
   ]
  },
  {
   "cell_type": "markdown",
   "metadata": {},
   "source": [
    "The data has a lot of outliers on the higher end, implying when the prediction was wrong, it was **really** wrong."
   ]
  },
  {
   "cell_type": "code",
   "execution_count": 56,
   "metadata": {},
   "outputs": [
    {
     "data": {
      "text/plain": [
       "<AxesSubplot:xlabel='Actual'>"
      ]
     },
     "execution_count": 56,
     "metadata": {},
     "output_type": "execute_result"
    },
    {
     "data": {
      "image/png": "[encoded data removed]",
      "text/plain": [
       "<Figure size 432x288 with 1 Axes>"
      ]
     },
     "metadata": {
      "needs_background": "light"
     },
     "output_type": "display_data"
    }
   ],
   "source": [
    "#Plot of deltas YoY\n",
    "compare.groupby([\"Actual\"])[\"Delta\"].median().plot(kind = \"line\")"
   ]
  },
  {
   "cell_type": "markdown",
   "metadata": {},
   "source": [
    "Delta increases with time and spikes at the beginning of each decade. The highest point is the year that Glee was all over the charts with their covers. "
   ]
  },
  {
   "cell_type": "code",
   "execution_count": 57,
   "metadata": {},
   "outputs": [
    {
     "data": {
      "text/plain": [
       "Actual\n",
       "1959   6.04\n",
       "1960   4.52\n",
       "1961   3.64\n",
       "1962   3.97\n",
       "1963   2.50\n",
       "       ... \n",
       "2016   8.52\n",
       "2017   6.88\n",
       "2018   6.93\n",
       "2019   6.76\n",
       "2020   6.65\n",
       "Name: Delta, Length: 62, dtype: float64"
      ]
     },
     "execution_count": 57,
     "metadata": {},
     "output_type": "execute_result"
    }
   ],
   "source": [
    "#Compare median values between actual and delta\n",
    "compare.groupby([\"Actual\"])[\"Delta\"].median()"
   ]
  },
  {
   "cell_type": "code",
   "execution_count": 58,
   "metadata": {},
   "outputs": [
    {
     "data": {
      "text/html": [
       "<div>\n",
       "<style scoped>\n",
       "    .dataframe tbody tr th:only-of-type {\n",
       "        vertical-align: middle;\n",
       "    }\n",
       "\n",
       "    .dataframe tbody tr th {\n",
       "        vertical-align: top;\n",
       "    }\n",
       "\n",
       "    .dataframe thead th {\n",
       "        text-align: right;\n",
       "    }\n",
       "</style>\n",
       "<table border=\"1\" class=\"dataframe\">\n",
       "  <thead>\n",
       "    <tr style=\"text-align: right;\">\n",
       "      <th></th>\n",
       "      <th>Actual</th>\n",
       "      <th>Predicted</th>\n",
       "      <th>Delta</th>\n",
       "    </tr>\n",
       "  </thead>\n",
       "  <tbody>\n",
       "    <tr>\n",
       "      <th>0</th>\n",
       "      <td>1965</td>\n",
       "      <td>1975.33</td>\n",
       "      <td>10.33</td>\n",
       "    </tr>\n",
       "    <tr>\n",
       "      <th>1</th>\n",
       "      <td>1974</td>\n",
       "      <td>1983.97</td>\n",
       "      <td>9.97</td>\n",
       "    </tr>\n",
       "    <tr>\n",
       "      <th>2</th>\n",
       "      <td>1997</td>\n",
       "      <td>1999.33</td>\n",
       "      <td>2.33</td>\n",
       "    </tr>\n",
       "    <tr>\n",
       "      <th>3</th>\n",
       "      <td>2012</td>\n",
       "      <td>2002.23</td>\n",
       "      <td>9.77</td>\n",
       "    </tr>\n",
       "    <tr>\n",
       "      <th>4</th>\n",
       "      <td>1962</td>\n",
       "      <td>1966.09</td>\n",
       "      <td>4.09</td>\n",
       "    </tr>\n",
       "    <tr>\n",
       "      <th>...</th>\n",
       "      <td>...</td>\n",
       "      <td>...</td>\n",
       "      <td>...</td>\n",
       "    </tr>\n",
       "    <tr>\n",
       "      <th>4779</th>\n",
       "      <td>1980</td>\n",
       "      <td>1979.17</td>\n",
       "      <td>0.83</td>\n",
       "    </tr>\n",
       "    <tr>\n",
       "      <th>4780</th>\n",
       "      <td>1965</td>\n",
       "      <td>1965.68</td>\n",
       "      <td>0.68</td>\n",
       "    </tr>\n",
       "    <tr>\n",
       "      <th>4781</th>\n",
       "      <td>1981</td>\n",
       "      <td>1999.76</td>\n",
       "      <td>18.76</td>\n",
       "    </tr>\n",
       "    <tr>\n",
       "      <th>4782</th>\n",
       "      <td>1970</td>\n",
       "      <td>1975.02</td>\n",
       "      <td>5.02</td>\n",
       "    </tr>\n",
       "    <tr>\n",
       "      <th>4783</th>\n",
       "      <td>2019</td>\n",
       "      <td>2021.85</td>\n",
       "      <td>2.85</td>\n",
       "    </tr>\n",
       "  </tbody>\n",
       "</table>\n",
       "<p>4784 rows × 3 columns</p>\n",
       "</div>"
      ],
      "text/plain": [
       "      Actual  Predicted  Delta\n",
       "0       1965    1975.33  10.33\n",
       "1       1974    1983.97   9.97\n",
       "2       1997    1999.33   2.33\n",
       "3       2012    2002.23   9.77\n",
       "4       1962    1966.09   4.09\n",
       "...      ...        ...    ...\n",
       "4779    1980    1979.17   0.83\n",
       "4780    1965    1965.68   0.68\n",
       "4781    1981    1999.76  18.76\n",
       "4782    1970    1975.02   5.02\n",
       "4783    2019    2021.85   2.85\n",
       "\n",
       "[4784 rows x 3 columns]"
      ]
     },
     "execution_count": 58,
     "metadata": {},
     "output_type": "execute_result"
    }
   ],
   "source": [
    "compare"
   ]
  },
  {
   "cell_type": "code",
   "execution_count": 59,
   "metadata": {},
   "outputs": [
    {
     "data": {
      "text/plain": [
       "1640"
      ]
     },
     "execution_count": 59,
     "metadata": {},
     "output_type": "execute_result"
    }
   ],
   "source": [
    "#How many predictions were off by less than 3 years? \n",
    "np.where(compare['Delta']<=3, 1, 0).sum()"
   ]
  },
  {
   "cell_type": "code",
   "execution_count": 60,
   "metadata": {},
   "outputs": [
    {
     "data": {
      "text/plain": [
       "(array([2.679e+03, 1.301e+03, 4.580e+02, 1.770e+02, 9.800e+01, 3.700e+01,\n",
       "        1.700e+01, 9.000e+00, 6.000e+00, 2.000e+00]),\n",
       " array([1.15702906e-03, 5.42284252e+00, 1.08445280e+01, 1.62662135e+01,\n",
       "        2.16878990e+01, 2.71095845e+01, 3.25312700e+01, 3.79529554e+01,\n",
       "        4.33746409e+01, 4.87963264e+01, 5.42180119e+01]),\n",
       " <BarContainer object of 10 artists>)"
      ]
     },
     "execution_count": 60,
     "metadata": {},
     "output_type": "execute_result"
    },
    {
     "data": {
      "image/png": "[encoded data removed]",
      "text/plain": [
       "<Figure size 432x288 with 1 Axes>"
      ]
     },
     "metadata": {
      "needs_background": "light"
     },
     "output_type": "display_data"
    }
   ],
   "source": [
    "#View full histogram of deltas\n",
    "plt.hist(compare['Delta'])"
   ]
  },
  {
   "cell_type": "markdown",
   "metadata": {},
   "source": [
    "### References\n",
    "* https://thecleverprogrammer.com/2021/06/19/lazy-predict-in-python-tutorial/\n",
    "* https://www.analyticsvidhya.com/blog/2021/05/know-the-best-evaluation-metrics-for-your-regression-model/\n",
    "* https://neptune.ai/blog/lightgbm-parameters-guide\n",
    "* https://lightgbm.readthedocs.io/en/latest/Parameters-Tuning.html\n",
    "* https://condor.depaul.edu/sjost/it223/documents/regress.htm"
   ]
  },
  {
   "cell_type": "code",
   "execution_count": null,
   "metadata": {},
   "outputs": [],
   "source": []
  }
 ],
 "metadata": {
  "kernelspec": {
   "display_name": "Python 3",
   "language": "python",
   "name": "python3"
  },
  "language_info": {
   "codemirror_mode": {
    "name": "ipython",
    "version": 3
   },
   "file_extension": ".py",
   "mimetype": "text/x-python",
   "name": "python",
   "nbconvert_exporter": "python",
   "pygments_lexer": "ipython3",
   "version": "3.7.6"
  }
 },
 "nbformat": 4,
 "nbformat_minor": 4
}
